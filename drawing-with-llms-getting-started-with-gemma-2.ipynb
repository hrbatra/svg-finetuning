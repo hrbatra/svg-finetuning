{
 "cells": [
  {
   "cell_type": "markdown",
   "id": "86bfe177",
   "metadata": {
    "papermill": {
     "duration": 0.002385,
     "end_time": "2025-02-28T12:06:25.301748",
     "exception": false,
     "start_time": "2025-02-28T12:06:25.299363",
     "status": "completed"
    },
    "tags": []
   },
   "source": [
    "This notebook implements a submission with Gemma 2 9B IT model with some helper code to ensure the generated SVGs conform to the submission requirements. (See the [Evaluation](https://www.kaggle.com/competitions/drawing-with-llms/overview/evaluation) page for details on the submission requirements.)\n",
    "\n",
    "To use this notebook interactively, you'll need to install some dependencies. First, *turn on* the Internet under **Session options** to the right. Then select the **Add-ons->Install Dependencies** menu above and click *Run*. A console should pop up with a running `pip` command. Wait for the dependencies to finish installing and then *turn off* the Internet before submitting."
   ]
  },
  {
   "cell_type": "code",
   "execution_count": 1,
   "id": "af412cd9",
   "metadata": {
    "execution": {
     "iopub.execute_input": "2025-02-28T12:06:25.306585Z",
     "iopub.status.busy": "2025-02-28T12:06:25.306253Z",
     "iopub.status.idle": "2025-02-28T12:06:25.311171Z",
     "shell.execute_reply": "2025-02-28T12:06:25.310429Z"
    },
    "papermill": {
     "duration": 0.008369,
     "end_time": "2025-02-28T12:06:25.312301",
     "exception": false,
     "start_time": "2025-02-28T12:06:25.303932",
     "status": "completed"
    },
    "tags": []
   },
   "outputs": [],
   "source": [
    "#| default_exp core"
   ]
  },
  {
   "cell_type": "code",
   "execution_count": 5,
   "id": "b35d1236",
   "metadata": {
    "execution": {
     "iopub.execute_input": "2025-02-28T12:06:25.316996Z",
     "iopub.status.busy": "2025-02-28T12:06:25.316805Z",
     "iopub.status.idle": "2025-02-28T12:06:39.882461Z",
     "shell.execute_reply": "2025-02-28T12:06:39.881564Z"
    },
    "papermill": {
     "duration": 14.570031,
     "end_time": "2025-02-28T12:06:39.884244",
     "exception": false,
     "start_time": "2025-02-28T12:06:25.314213",
     "status": "completed"
    },
    "tags": []
   },
   "outputs": [
    {
     "ename": "ModuleNotFoundError",
     "evalue": "No module named 're2'",
     "output_type": "error",
     "traceback": [
      "\u001b[0;31m---------------------------------------------------------------------------\u001b[0m",
      "\u001b[0;31mModuleNotFoundError\u001b[0m                       Traceback (most recent call last)",
      "Cell \u001b[0;32mIn[5], line 6\u001b[0m\n\u001b[1;32m      4\u001b[0m \u001b[38;5;28;01mimport\u001b[39;00m \u001b[38;5;21;01mlogging\u001b[39;00m\n\u001b[1;32m      5\u001b[0m \u001b[38;5;28;01mimport\u001b[39;00m \u001b[38;5;21;01mre\u001b[39;00m\n\u001b[0;32m----> 6\u001b[0m \u001b[38;5;28;01mimport\u001b[39;00m \u001b[38;5;21;01mre2\u001b[39;00m\n\u001b[1;32m      8\u001b[0m \u001b[38;5;28;01mimport\u001b[39;00m \u001b[38;5;21;01mcairosvg\u001b[39;00m\n\u001b[1;32m      9\u001b[0m \u001b[38;5;28;01mimport\u001b[39;00m \u001b[38;5;21;01mkagglehub\u001b[39;00m\n",
      "\u001b[0;31mModuleNotFoundError\u001b[0m: No module named 're2'"
     ]
    }
   ],
   "source": [
    "#| export\n",
    "import concurrent\n",
    "import io\n",
    "import logging\n",
    "import re\n",
    "import re2\n",
    "\n",
    "import cairosvg\n",
    "import kagglehub\n",
    "import torch\n",
    "from lxml import etree\n",
    "from transformers import AutoTokenizer, AutoModelForCausalLM, BitsAndBytesConfig\n",
    "\n",
    "svg_constraints = kagglehub.package_import('metric/svg-constraints')\n",
    "\n",
    "DEVICE = torch.device(\"cuda\" if torch.cuda.is_available() else \"cpu\")\n",
    "\n",
    "\n",
    "class Model:\n",
    "    def __init__(self):\n",
    "         # Quantization Configuration\n",
    "        quantization_config = BitsAndBytesConfig(\n",
    "            load_in_4bit=True,\n",
    "            bnb_4bit_quant_type=\"nf4\",\n",
    "            bnb_4bit_use_double_quant=True,\n",
    "            bnb_4bit_compute_dtype=torch.float16,\n",
    "        )\n",
    "        self.model_path = kagglehub.model_download('google/gemma-2/Transformers/gemma-2-9b-it/2')\n",
    "        self.tokenizer = AutoTokenizer.from_pretrained(self.model_path)\n",
    "        self.model = AutoModelForCausalLM.from_pretrained(\n",
    "            self.model_path,\n",
    "            device_map=\"auto\",\n",
    "            quantization_config=quantization_config,\n",
    "        )\n",
    "        self.prompt_template = \"\"\"Generate SVG code to visually represent the following text description, while respecting the given constraints.\n",
    "<constraints>\n",
    "* **Allowed Elements:** `svg`, `path`, `circle`, `rect`, `ellipse`, `line`, `polyline`, `polygon`, `g`, `linearGradient`, `radialGradient`, `stop`, `defs`\n",
    "* **Allowed Attributes:** `viewBox`, `width`, `height`, `fill`, `stroke`, `stroke-width`, `d`, `cx`, `cy`, `r`, `x`, `y`, `rx`, `ry`, `x1`, `y1`, `x2`, `y2`, `points`, `transform`, `opacity`\n",
    "</constraints>\n",
    "\n",
    "<example>\n",
    "<description>\"A red circle with a blue square inside\"</description>\n",
    "```svg\n",
    "<svg viewBox=\"0 0 256 256\" width=\"256\" height=\"256\">\n",
    "  <circle cx=\"50\" cy=\"50\" r=\"40\" fill=\"red\"/>\n",
    "  <rect x=\"30\" y=\"30\" width=\"40\" height=\"40\" fill=\"blue\"/>\n",
    "</svg>\n",
    "```\n",
    "</example>\n",
    "\n",
    "\n",
    "Please ensure that the generated SVG code is well-formed, valid, and strictly adheres to these constraints. Focus on a clear and concise representation of the input description within the given limitations. Always give the complete SVG code with nothing omitted. Never use an ellipsis.\n",
    "\n",
    "<description>\"{}\"</description>\n",
    "```svg\n",
    "<svg viewBox=\"0 0 256 256\" width=\"256\" height=\"256\">\n",
    "\"\"\"\n",
    "        self.default_svg = \"\"\"<svg width=\"256\" height=\"256\" viewBox=\"0 0 256 256\"><circle cx=\"50\" cy=\"50\" r=\"40\" fill=\"red\" /></svg>\"\"\"\n",
    "        self.constraints = svg_constraints.SVGConstraints()\n",
    "        self.timeout_seconds = 90\n",
    "\n",
    "    # You could try increasing `max_new_tokens`\n",
    "    def predict(self, description: str, max_new_tokens=512) -> str:\n",
    "        def generate_svg():\n",
    "            try:\n",
    "                prompt = self.prompt_template.format(description)\n",
    "                inputs = self.tokenizer(text=prompt, return_tensors=\"pt\").to(DEVICE)\n",
    "\n",
    "                with torch.no_grad():\n",
    "                    output = self.model.generate(\n",
    "                        **inputs,\n",
    "                        max_new_tokens=max_new_tokens,\n",
    "                        do_sample=True,\n",
    "                    )\n",
    "\n",
    "                output_decoded = self.tokenizer.decode(output[0], skip_special_tokens=True)\n",
    "                logging.debug('Output decoded from model: %s', output_decoded)\n",
    "\n",
    "                matches = re.findall(r\"<svg.*?</svg>\", output_decoded, re.DOTALL | re.IGNORECASE)\n",
    "                if matches:\n",
    "                    svg = matches[-1]\n",
    "                else:\n",
    "                    return self.default_svg\n",
    "\n",
    "                logging.debug('Unprocessed SVG: %s', svg)\n",
    "                svg = self.enforce_constraints(svg)\n",
    "                logging.debug('Processed SVG: %s', svg)\n",
    "                # Ensure the generated code can be converted by cairosvg\n",
    "                cairosvg.svg2png(bytestring=svg.encode('utf-8'))\n",
    "                return svg\n",
    "            except Exception as e:\n",
    "                logging.error('Exception during SVG generation: %s', e)\n",
    "                return self.default_svg\n",
    "\n",
    "        # Execute SVG generation in a new thread to enforce time constraints\n",
    "        with concurrent.futures.ThreadPoolExecutor(max_workers=1) as executor:\n",
    "            future = executor.submit(generate_svg)\n",
    "            try:\n",
    "                return future.result(timeout=self.timeout_seconds)\n",
    "            except concurrent.futures.TimeoutError:\n",
    "                logging.warning(\"Prediction timed out after %s seconds.\", self.timeout_seconds)\n",
    "                return self.default_svg\n",
    "            except Exception as e:\n",
    "                logging.error(f\"An unexpected error occurred: {e}\")\n",
    "                return self.default_svg\n",
    "\n",
    "    def enforce_constraints(self, svg_string: str) -> str:\n",
    "        \"\"\"Enforces constraints on an SVG string, removing disallowed elements\n",
    "        and attributes.\n",
    "\n",
    "        Parameters\n",
    "        ----------\n",
    "        svg_string : str\n",
    "            The SVG string to process.\n",
    "\n",
    "        Returns\n",
    "        -------\n",
    "        str\n",
    "            The processed SVG string, or the default SVG if constraints\n",
    "            cannot be satisfied.\n",
    "        \"\"\"\n",
    "        logging.info('Sanitizing SVG...')\n",
    "\n",
    "        try:\n",
    "            parser = etree.XMLParser(remove_blank_text=True, remove_comments=True)\n",
    "            root = etree.fromstring(svg_string, parser=parser)\n",
    "        except etree.ParseError as e:\n",
    "            logging.error('SVG Parse Error: %s. Returning default SVG.', e)\n",
    "            return self.default_svg\n",
    "    \n",
    "        elements_to_remove = []\n",
    "        for element in root.iter():\n",
    "            tag_name = etree.QName(element.tag).localname\n",
    "    \n",
    "            # Remove disallowed elements\n",
    "            if tag_name not in self.constraints.allowed_elements:\n",
    "                elements_to_remove.append(element)\n",
    "                continue  # Skip attribute checks for removed elements\n",
    "    \n",
    "            # Remove disallowed attributes\n",
    "            attrs_to_remove = []\n",
    "            for attr in element.attrib:\n",
    "                attr_name = etree.QName(attr).localname\n",
    "                if (\n",
    "                    attr_name\n",
    "                    not in self.constraints.allowed_elements[tag_name]\n",
    "                    and attr_name\n",
    "                    not in self.constraints.allowed_elements['common']\n",
    "                ):\n",
    "                    attrs_to_remove.append(attr)\n",
    "    \n",
    "            for attr in attrs_to_remove:\n",
    "                logging.debug(\n",
    "                    'Attribute \"%s\" for element \"%s\" not allowed. Removing.',\n",
    "                    attr,\n",
    "                    tag_name,\n",
    "                )\n",
    "                del element.attrib[attr]\n",
    "    \n",
    "            # Check and remove invalid href attributes\n",
    "            for attr, value in element.attrib.items():\n",
    "                 if etree.QName(attr).localname == 'href' and not value.startswith('#'):\n",
    "                    logging.debug(\n",
    "                        'Removing invalid href attribute in element \"%s\".', tag_name\n",
    "                    )\n",
    "                    del element.attrib[attr]\n",
    "\n",
    "            # Validate path elements to help ensure SVG conversion\n",
    "            if tag_name == 'path':\n",
    "                d_attribute = element.get('d')\n",
    "                if not d_attribute:\n",
    "                    logging.warning('Path element is missing \"d\" attribute. Removing path.')\n",
    "                    elements_to_remove.append(element)\n",
    "                    continue # Skip further checks for this removed element\n",
    "                # Use regex to validate 'd' attribute format\n",
    "                path_regex = re2.compile(\n",
    "                    r'^'  # Start of string\n",
    "                    r'(?:'  # Non-capturing group for each command + numbers block\n",
    "                    r'[MmZzLlHhVvCcSsQqTtAa]'  # Valid SVG path commands (adjusted to exclude extra letters)\n",
    "                    r'\\s*'  # Optional whitespace after command\n",
    "                    r'(?:'  # Non-capturing group for optional numbers\n",
    "                    r'-?\\d+(?:\\.\\d+)?(?:[Ee][+-]?\\d+)?'  # First number\n",
    "                    r'(?:[\\s,]+-?\\d+(?:\\.\\d+)?(?:[Ee][+-]?\\d+)?)*'  # Subsequent numbers with mandatory separator(s)\n",
    "                    r')?'  # Numbers are optional (e.g. for Z command)\n",
    "                    r'\\s*'  # Optional whitespace after numbers/command block\n",
    "                    r')+'  # One or more command blocks\n",
    "                    r'\\s*'  # Optional trailing whitespace\n",
    "                    r'$'  # End of string\n",
    "                )\n",
    "                if not path_regex.match(d_attribute):\n",
    "                    logging.warning(\n",
    "                        'Path element has malformed \"d\" attribute format. Removing path.'\n",
    "                    )\n",
    "                    elements_to_remove.append(element)\n",
    "                    continue\n",
    "                logging.debug('Path element \"d\" attribute validated (regex check).')\n",
    "        \n",
    "        # Remove elements marked for removal\n",
    "        for element in elements_to_remove:\n",
    "            if element.getparent() is not None:\n",
    "                element.getparent().remove(element)\n",
    "                logging.debug('Removed element: %s', element.tag)\n",
    "\n",
    "        try:\n",
    "            cleaned_svg_string = etree.tostring(root, encoding='unicode')\n",
    "            return cleaned_svg_string\n",
    "        except ValueError as e:\n",
    "            logging.error(\n",
    "                'SVG could not be sanitized to meet constraints: %s', e\n",
    "            )\n",
    "            return self.default_svg"
   ]
  },
  {
   "cell_type": "markdown",
   "id": "a8952ccb",
   "metadata": {
    "papermill": {
     "duration": 0.001734,
     "end_time": "2025-02-28T12:06:39.888304",
     "exception": false,
     "start_time": "2025-02-28T12:06:39.886570",
     "status": "completed"
    },
    "tags": []
   },
   "source": [
    "The following code tests the above model in a local mock-up of this competition's evaluation pipeline. It runs the model on a sample of 15 instances defined in the `test.csv` file in the `kaggle_evaluation` package folder."
   ]
  },
  {
   "cell_type": "code",
   "execution_count": 3,
   "id": "324fba98",
   "metadata": {
    "execution": {
     "iopub.execute_input": "2025-02-28T12:06:39.893124Z",
     "iopub.status.busy": "2025-02-28T12:06:39.892771Z",
     "iopub.status.idle": "2025-02-28T12:16:05.151808Z",
     "shell.execute_reply": "2025-02-28T12:16:05.150707Z"
    },
    "papermill": {
     "duration": 565.263274,
     "end_time": "2025-02-28T12:16:05.153630",
     "exception": false,
     "start_time": "2025-02-28T12:06:39.890356",
     "status": "completed"
    },
    "tags": []
   },
   "outputs": [
    {
     "name": "stdout",
     "output_type": "stream",
     "text": [
      "Creating Model instance...\n"
     ]
    },
    {
     "data": {
      "application/vnd.jupyter.widget-view+json": {
       "model_id": "4132d8542a4a4b058aff0a48de621ff0",
       "version_major": 2,
       "version_minor": 0
      },
      "text/plain": [
       "Loading checkpoint shards:   0%|          | 0/4 [00:00<?, ?it/s]"
      ]
     },
     "metadata": {},
     "output_type": "display_data"
    },
    {
     "name": "stdout",
     "output_type": "stream",
     "text": [
      "Running inference tests...\n"
     ]
    },
    {
     "name": "stderr",
     "output_type": "stream",
     "text": [
      "The 'batch_size' attribute of HybridCache is deprecated and will be removed in v4.49. Use the more precisely named 'self.max_batch_size' attribute instead.\n",
      "INFO:root:Sanitizing SVG...\n",
      "INFO:root:Sanitizing SVG...\n",
      "INFO:root:Sanitizing SVG...\n",
      "INFO:root:Sanitizing SVG...\n",
      "INFO:root:Sanitizing SVG...\n",
      "INFO:root:Sanitizing SVG...\n",
      "INFO:root:Sanitizing SVG...\n",
      "INFO:root:Sanitizing SVG...\n",
      "INFO:root:Sanitizing SVG...\n",
      "INFO:root:Sanitizing SVG...\n",
      "ERROR:root:SVG Parse Error: error parsing attribute name, line 4, column 1 (<string>, line 4). Returning default SVG.\n",
      "INFO:root:Sanitizing SVG...\n",
      "INFO:root:Sanitizing SVG...\n",
      "INFO:root:Sanitizing SVG...\n",
      "INFO:root:Sanitizing SVG...\n",
      "INFO:root:Sanitizing SVG...\n"
     ]
    },
    {
     "name": "stdout",
     "output_type": "stream",
     "text": [
      "Wrote test submission file to \"/tmp/kaggle-evaluation-submission-f4v18hqw.csv\".\n",
      "Success!\n"
     ]
    }
   ],
   "source": [
    "import kaggle_evaluation\n",
    "\n",
    "logging.basicConfig(level=logging.INFO, force=True)\n",
    "kaggle_evaluation.test(Model)"
   ]
  },
  {
   "cell_type": "markdown",
   "id": "b226796e",
   "metadata": {
    "papermill": {
     "duration": 0.002868,
     "end_time": "2025-02-28T12:16:05.159863",
     "exception": false,
     "start_time": "2025-02-28T12:16:05.156995",
     "status": "completed"
    },
    "tags": []
   },
   "source": [
    "Alternatively, you could use the code below to run the model over `train.csv` and see some generated images along with some debugging info. Feel free to turn down the logging level to `INFO` if you just want to see the images."
   ]
  },
  {
   "cell_type": "code",
   "execution_count": 3,
   "id": "a2c74881",
   "metadata": {
    "execution": {
     "iopub.execute_input": "2025-02-28T12:16:05.168590Z",
     "iopub.status.busy": "2025-02-28T12:16:05.167989Z",
     "iopub.status.idle": "2025-02-28T12:16:05.173067Z",
     "shell.execute_reply": "2025-02-28T12:16:05.172452Z"
    },
    "papermill": {
     "duration": 0.011302,
     "end_time": "2025-02-28T12:16:05.174139",
     "exception": false,
     "start_time": "2025-02-28T12:16:05.162837",
     "status": "completed"
    },
    "tags": []
   },
   "outputs": [
    {
     "data": {
      "text/html": [
       "<div><style>\n",
       ".dataframe > thead > tr,\n",
       ".dataframe > tbody > tr {\n",
       "  text-align: right;\n",
       "  white-space: pre-wrap;\n",
       "}\n",
       "</style>\n",
       "<small>shape: (5, 2)</small><table border=\"1\" class=\"dataframe\"><thead><tr><th>id</th><th>description</th></tr><tr><td>str</td><td>str</td></tr></thead><tbody><tr><td>&quot;04c411&quot;</td><td>&quot;a starlit night over snow-cove…</td></tr><tr><td>&quot;215136&quot;</td><td>&quot;black and white checkered pant…</td></tr><tr><td>&quot;3e2bc6&quot;</td><td>&quot;crimson rectangles forming a c…</td></tr><tr><td>&quot;61d7a8&quot;</td><td>&quot;burgundy corduroy pants with p…</td></tr><tr><td>&quot;6f2ca7&quot;</td><td>&quot;orange corduroy overalls&quot;</td></tr></tbody></table></div>"
      ],
      "text/plain": [
       "shape: (5, 2)\n",
       "┌────────┬─────────────────────────────────┐\n",
       "│ id     ┆ description                     │\n",
       "│ ---    ┆ ---                             │\n",
       "│ str    ┆ str                             │\n",
       "╞════════╪═════════════════════════════════╡\n",
       "│ 04c411 ┆ a starlit night over snow-cove… │\n",
       "│ 215136 ┆ black and white checkered pant… │\n",
       "│ 3e2bc6 ┆ crimson rectangles forming a c… │\n",
       "│ 61d7a8 ┆ burgundy corduroy pants with p… │\n",
       "│ 6f2ca7 ┆ orange corduroy overalls        │\n",
       "└────────┴─────────────────────────────────┘"
      ]
     },
     "metadata": {},
     "output_type": "display_data"
    },
    {
     "ename": "NameError",
     "evalue": "name 'Model' is not defined",
     "output_type": "error",
     "traceback": [
      "\u001b[0;31m---------------------------------------------------------------------------\u001b[0m",
      "\u001b[0;31mNameError\u001b[0m                                 Traceback (most recent call last)",
      "Cell \u001b[0;32mIn[3], line 27\u001b[0m\n\u001b[1;32m     24\u001b[0m             \u001b[38;5;28;01mcontinue\u001b[39;00m\n\u001b[1;32m     26\u001b[0m \u001b[38;5;66;03m# Uncomment and run the line below to see some generated images\u001b[39;00m\n\u001b[0;32m---> 27\u001b[0m \u001b[43mgenerate\u001b[49m\u001b[43m(\u001b[49m\u001b[43m)\u001b[49m\n",
      "Cell \u001b[0;32mIn[3], line 11\u001b[0m, in \u001b[0;36mgenerate\u001b[0;34m()\u001b[0m\n\u001b[1;32m      8\u001b[0m train \u001b[38;5;241m=\u001b[39m pl\u001b[38;5;241m.\u001b[39mread_csv(\u001b[38;5;124m'\u001b[39m\u001b[38;5;124mtrain.csv\u001b[39m\u001b[38;5;124m'\u001b[39m)\n\u001b[1;32m      9\u001b[0m display(train\u001b[38;5;241m.\u001b[39mhead())\n\u001b[0;32m---> 11\u001b[0m model \u001b[38;5;241m=\u001b[39m \u001b[43mModel\u001b[49m()\n\u001b[1;32m     12\u001b[0m svgs \u001b[38;5;241m=\u001b[39m []\n\u001b[1;32m     13\u001b[0m \u001b[38;5;28;01mfor\u001b[39;00m desc \u001b[38;5;129;01min\u001b[39;00m train\u001b[38;5;241m.\u001b[39mget_column(\u001b[38;5;124m'\u001b[39m\u001b[38;5;124mdescription\u001b[39m\u001b[38;5;124m'\u001b[39m):\n",
      "\u001b[0;31mNameError\u001b[0m: name 'Model' is not defined"
     ]
    }
   ],
   "source": [
    "def generate():\n",
    "    import polars as pl\n",
    "    from IPython.display import SVG\n",
    "    import time  # Import the time module\n",
    "    \n",
    "    logging.basicConfig(level=logging.DEBUG, force=True)\n",
    "    \n",
    "    train = pl.read_csv('train.csv')\n",
    "    display(train.head())\n",
    "    \n",
    "    model = Model()\n",
    "    svgs = []\n",
    "    for desc in train.get_column('description'):\n",
    "        start_time = time.time()  # Record start time\n",
    "        svg = model.predict(desc)\n",
    "        end_time = time.time()    # Record end time\n",
    "        elapsed_time = end_time - start_time # Calculate elapsed time\n",
    "        print(f\"Prediction time for description '{desc[:20]}...': {elapsed_time:.4f} seconds\") # Print time\n",
    "    \n",
    "        try:\n",
    "            display(SVG(svg))\n",
    "        except Exception as e:\n",
    "            print(e)\n",
    "            continue\n",
    "\n",
    "# Uncomment and run the line below to see some generated images\n",
    "generate()"
   ]
  },
  {
   "cell_type": "code",
   "execution_count": 2,
   "id": "cb996f02",
   "metadata": {},
   "outputs": [],
   "source": [
    "import logging"
   ]
  },
  {
   "cell_type": "code",
   "execution_count": null,
   "id": "1a0cb42f",
   "metadata": {},
   "outputs": [],
   "source": []
  }
 ],
 "metadata": {
  "kaggle": {
   "accelerator": "nvidiaTeslaT4",
   "dataSources": [
    {
     "databundleVersionId": 11228460,
     "sourceId": 89659,
     "sourceType": "competition"
    },
    {
     "sourceId": 224423433,
     "sourceType": "kernelVersion"
    },
    {
     "modelId": 76277,
     "modelInstanceId": 72256,
     "sourceId": 104453,
     "sourceType": "modelInstanceVersion"
    }
   ],
   "dockerImageVersionId": 30919,
   "isGpuEnabled": true,
   "isInternetEnabled": false,
   "language": "python",
   "sourceType": "notebook"
  },
  "kernelspec": {
   "display_name": "base",
   "language": "python",
   "name": "python3"
  },
  "language_info": {
   "codemirror_mode": {
    "name": "ipython",
    "version": 3
   },
   "file_extension": ".py",
   "mimetype": "text/x-python",
   "name": "python",
   "nbconvert_exporter": "python",
   "pygments_lexer": "ipython3",
   "version": "3.12.3"
  },
  "papermill": {
   "default_parameters": {},
   "duration": 586.427629,
   "end_time": "2025-02-28T12:16:08.393857",
   "environment_variables": {},
   "exception": null,
   "input_path": "__notebook__.ipynb",
   "output_path": "__notebook__.ipynb",
   "parameters": {},
   "start_time": "2025-02-28T12:06:21.966228",
   "version": "2.6.0"
  },
  "widgets": {
   "application/vnd.jupyter.widget-state+json": {
    "state": {
     "11fcff75d3324563be9ce72e60048297": {
      "model_module": "@jupyter-widgets/controls",
      "model_module_version": "2.0.0",
      "model_name": "HTMLModel",
      "state": {
       "_dom_classes": [],
       "_model_module": "@jupyter-widgets/controls",
       "_model_module_version": "2.0.0",
       "_model_name": "HTMLModel",
       "_view_count": null,
       "_view_module": "@jupyter-widgets/controls",
       "_view_module_version": "2.0.0",
       "_view_name": "HTMLView",
       "description": "",
       "description_allow_html": false,
       "layout": "IPY_MODEL_3ab3b9aa5a0e4ba1ac51f9e9f9a78fb4",
       "placeholder": "​",
       "style": "IPY_MODEL_b67b35cbf01c4d339bab09d985f0ddc7",
       "tabbable": null,
       "tooltip": null,
       "value": " 4/4 [01:27&lt;00:00, 21.20s/it]"
      }
     },
     "13834455db6942ac9429d26044142c8e": {
      "model_module": "@jupyter-widgets/controls",
      "model_module_version": "2.0.0",
      "model_name": "FloatProgressModel",
      "state": {
       "_dom_classes": [],
       "_model_module": "@jupyter-widgets/controls",
       "_model_module_version": "2.0.0",
       "_model_name": "FloatProgressModel",
       "_view_count": null,
       "_view_module": "@jupyter-widgets/controls",
       "_view_module_version": "2.0.0",
       "_view_name": "ProgressView",
       "bar_style": "success",
       "description": "",
       "description_allow_html": false,
       "layout": "IPY_MODEL_8bbffc1010ba4f709e86130deb15c7df",
       "max": 4,
       "min": 0,
       "orientation": "horizontal",
       "style": "IPY_MODEL_837fca0833ea4385a5b02101e96175ba",
       "tabbable": null,
       "tooltip": null,
       "value": 4
      }
     },
     "21855723ce4943a39a821386ed425f4b": {
      "model_module": "@jupyter-widgets/controls",
      "model_module_version": "2.0.0",
      "model_name": "HTMLStyleModel",
      "state": {
       "_model_module": "@jupyter-widgets/controls",
       "_model_module_version": "2.0.0",
       "_model_name": "HTMLStyleModel",
       "_view_count": null,
       "_view_module": "@jupyter-widgets/base",
       "_view_module_version": "2.0.0",
       "_view_name": "StyleView",
       "background": null,
       "description_width": "",
       "font_size": null,
       "text_color": null
      }
     },
     "3ab3b9aa5a0e4ba1ac51f9e9f9a78fb4": {
      "model_module": "@jupyter-widgets/base",
      "model_module_version": "2.0.0",
      "model_name": "LayoutModel",
      "state": {
       "_model_module": "@jupyter-widgets/base",
       "_model_module_version": "2.0.0",
       "_model_name": "LayoutModel",
       "_view_count": null,
       "_view_module": "@jupyter-widgets/base",
       "_view_module_version": "2.0.0",
       "_view_name": "LayoutView",
       "align_content": null,
       "align_items": null,
       "align_self": null,
       "border_bottom": null,
       "border_left": null,
       "border_right": null,
       "border_top": null,
       "bottom": null,
       "display": null,
       "flex": null,
       "flex_flow": null,
       "grid_area": null,
       "grid_auto_columns": null,
       "grid_auto_flow": null,
       "grid_auto_rows": null,
       "grid_column": null,
       "grid_gap": null,
       "grid_row": null,
       "grid_template_areas": null,
       "grid_template_columns": null,
       "grid_template_rows": null,
       "height": null,
       "justify_content": null,
       "justify_items": null,
       "left": null,
       "margin": null,
       "max_height": null,
       "max_width": null,
       "min_height": null,
       "min_width": null,
       "object_fit": null,
       "object_position": null,
       "order": null,
       "overflow": null,
       "padding": null,
       "right": null,
       "top": null,
       "visibility": null,
       "width": null
      }
     },
     "4132d8542a4a4b058aff0a48de621ff0": {
      "model_module": "@jupyter-widgets/controls",
      "model_module_version": "2.0.0",
      "model_name": "HBoxModel",
      "state": {
       "_dom_classes": [],
       "_model_module": "@jupyter-widgets/controls",
       "_model_module_version": "2.0.0",
       "_model_name": "HBoxModel",
       "_view_count": null,
       "_view_module": "@jupyter-widgets/controls",
       "_view_module_version": "2.0.0",
       "_view_name": "HBoxView",
       "box_style": "",
       "children": [
        "IPY_MODEL_b4081aec98cb48829ed3e28ac81fb3bd",
        "IPY_MODEL_13834455db6942ac9429d26044142c8e",
        "IPY_MODEL_11fcff75d3324563be9ce72e60048297"
       ],
       "layout": "IPY_MODEL_92fcb64f6a044f4b8d81d97112c278b8",
       "tabbable": null,
       "tooltip": null
      }
     },
     "837fca0833ea4385a5b02101e96175ba": {
      "model_module": "@jupyter-widgets/controls",
      "model_module_version": "2.0.0",
      "model_name": "ProgressStyleModel",
      "state": {
       "_model_module": "@jupyter-widgets/controls",
       "_model_module_version": "2.0.0",
       "_model_name": "ProgressStyleModel",
       "_view_count": null,
       "_view_module": "@jupyter-widgets/base",
       "_view_module_version": "2.0.0",
       "_view_name": "StyleView",
       "bar_color": null,
       "description_width": ""
      }
     },
     "8bbffc1010ba4f709e86130deb15c7df": {
      "model_module": "@jupyter-widgets/base",
      "model_module_version": "2.0.0",
      "model_name": "LayoutModel",
      "state": {
       "_model_module": "@jupyter-widgets/base",
       "_model_module_version": "2.0.0",
       "_model_name": "LayoutModel",
       "_view_count": null,
       "_view_module": "@jupyter-widgets/base",
       "_view_module_version": "2.0.0",
       "_view_name": "LayoutView",
       "align_content": null,
       "align_items": null,
       "align_self": null,
       "border_bottom": null,
       "border_left": null,
       "border_right": null,
       "border_top": null,
       "bottom": null,
       "display": null,
       "flex": null,
       "flex_flow": null,
       "grid_area": null,
       "grid_auto_columns": null,
       "grid_auto_flow": null,
       "grid_auto_rows": null,
       "grid_column": null,
       "grid_gap": null,
       "grid_row": null,
       "grid_template_areas": null,
       "grid_template_columns": null,
       "grid_template_rows": null,
       "height": null,
       "justify_content": null,
       "justify_items": null,
       "left": null,
       "margin": null,
       "max_height": null,
       "max_width": null,
       "min_height": null,
       "min_width": null,
       "object_fit": null,
       "object_position": null,
       "order": null,
       "overflow": null,
       "padding": null,
       "right": null,
       "top": null,
       "visibility": null,
       "width": null
      }
     },
     "92fcb64f6a044f4b8d81d97112c278b8": {
      "model_module": "@jupyter-widgets/base",
      "model_module_version": "2.0.0",
      "model_name": "LayoutModel",
      "state": {
       "_model_module": "@jupyter-widgets/base",
       "_model_module_version": "2.0.0",
       "_model_name": "LayoutModel",
       "_view_count": null,
       "_view_module": "@jupyter-widgets/base",
       "_view_module_version": "2.0.0",
       "_view_name": "LayoutView",
       "align_content": null,
       "align_items": null,
       "align_self": null,
       "border_bottom": null,
       "border_left": null,
       "border_right": null,
       "border_top": null,
       "bottom": null,
       "display": null,
       "flex": null,
       "flex_flow": null,
       "grid_area": null,
       "grid_auto_columns": null,
       "grid_auto_flow": null,
       "grid_auto_rows": null,
       "grid_column": null,
       "grid_gap": null,
       "grid_row": null,
       "grid_template_areas": null,
       "grid_template_columns": null,
       "grid_template_rows": null,
       "height": null,
       "justify_content": null,
       "justify_items": null,
       "left": null,
       "margin": null,
       "max_height": null,
       "max_width": null,
       "min_height": null,
       "min_width": null,
       "object_fit": null,
       "object_position": null,
       "order": null,
       "overflow": null,
       "padding": null,
       "right": null,
       "top": null,
       "visibility": null,
       "width": null
      }
     },
     "b4081aec98cb48829ed3e28ac81fb3bd": {
      "model_module": "@jupyter-widgets/controls",
      "model_module_version": "2.0.0",
      "model_name": "HTMLModel",
      "state": {
       "_dom_classes": [],
       "_model_module": "@jupyter-widgets/controls",
       "_model_module_version": "2.0.0",
       "_model_name": "HTMLModel",
       "_view_count": null,
       "_view_module": "@jupyter-widgets/controls",
       "_view_module_version": "2.0.0",
       "_view_name": "HTMLView",
       "description": "",
       "description_allow_html": false,
       "layout": "IPY_MODEL_e6c99f3a51e049c382c1476b02a763c1",
       "placeholder": "​",
       "style": "IPY_MODEL_21855723ce4943a39a821386ed425f4b",
       "tabbable": null,
       "tooltip": null,
       "value": "Loading checkpoint shards: 100%"
      }
     },
     "b67b35cbf01c4d339bab09d985f0ddc7": {
      "model_module": "@jupyter-widgets/controls",
      "model_module_version": "2.0.0",
      "model_name": "HTMLStyleModel",
      "state": {
       "_model_module": "@jupyter-widgets/controls",
       "_model_module_version": "2.0.0",
       "_model_name": "HTMLStyleModel",
       "_view_count": null,
       "_view_module": "@jupyter-widgets/base",
       "_view_module_version": "2.0.0",
       "_view_name": "StyleView",
       "background": null,
       "description_width": "",
       "font_size": null,
       "text_color": null
      }
     },
     "e6c99f3a51e049c382c1476b02a763c1": {
      "model_module": "@jupyter-widgets/base",
      "model_module_version": "2.0.0",
      "model_name": "LayoutModel",
      "state": {
       "_model_module": "@jupyter-widgets/base",
       "_model_module_version": "2.0.0",
       "_model_name": "LayoutModel",
       "_view_count": null,
       "_view_module": "@jupyter-widgets/base",
       "_view_module_version": "2.0.0",
       "_view_name": "LayoutView",
       "align_content": null,
       "align_items": null,
       "align_self": null,
       "border_bottom": null,
       "border_left": null,
       "border_right": null,
       "border_top": null,
       "bottom": null,
       "display": null,
       "flex": null,
       "flex_flow": null,
       "grid_area": null,
       "grid_auto_columns": null,
       "grid_auto_flow": null,
       "grid_auto_rows": null,
       "grid_column": null,
       "grid_gap": null,
       "grid_row": null,
       "grid_template_areas": null,
       "grid_template_columns": null,
       "grid_template_rows": null,
       "height": null,
       "justify_content": null,
       "justify_items": null,
       "left": null,
       "margin": null,
       "max_height": null,
       "max_width": null,
       "min_height": null,
       "min_width": null,
       "object_fit": null,
       "object_position": null,
       "order": null,
       "overflow": null,
       "padding": null,
       "right": null,
       "top": null,
       "visibility": null,
       "width": null
      }
     }
    },
    "version_major": 2,
    "version_minor": 0
   }
  }
 },
 "nbformat": 4,
 "nbformat_minor": 5
}
